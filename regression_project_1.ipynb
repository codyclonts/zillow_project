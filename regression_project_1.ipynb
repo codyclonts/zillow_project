{
 "cells": [
  {
   "cell_type": "markdown",
   "id": "00dedad9",
   "metadata": {},
   "source": [
    "Project Objectives\n",
    "\n",
    "Document code, process (data acquistion, preparation, exploratory data analysis and statistical testing, modeling, and model evaluation), findings, and key takeaways in a Jupyter Notebook Final Report.\n",
    "\n",
    "Create modules (acquire.py, prepare.py) that make your process repeateable and your report (notebook) easier to read and follow.\n",
    "\n",
    "Ask exploratory questions of your data that will help you understand more about the attributes and drivers of home value. Answer questions through charts and statistical tests.\n",
    "\n",
    "Construct a model to predict assessed home value for single family properties using regression techniques.\n",
    "\n",
    "Make recommendations to a data science team about how to improve predictions.\n",
    "\n",
    "Refine your work into a Report, in the form of a jupyter notebook, that you will walk through in a 5 minute presentation to a group of collegues and managers about the work you did, why, goals, what you found, your methdologies, and your conclusions.\n",
    "\n",
    "Be prepared to answer panel questions about your code, process, findings and key takeaways, and model.\n",
    "\n"
   ]
  },
  {
   "cell_type": "code",
   "execution_count": 1,
   "id": "c0f13f11",
   "metadata": {},
   "outputs": [],
   "source": [
    "# import all the things\n",
    "\n",
    "#acquires the data, prepares it, puts it into a df\n",
    "import wrangle\n",
    "\n",
    "\n",
    "#work with the data\n",
    "import pandas as pd \n",
    "import numpy as np\n",
    "from scipy import stats\n",
    "from math import sqrt\n",
    "\n",
    "# visualize the data\n",
    "import seaborn as sns\n",
    "import matplotlib.pyplot as plt \n",
    "\n",
    "\n",
    "#sklearn \n",
    "from sklearn.linear_model import LinearRegression\n",
    "from sklearn.metrics import mean_squared_error, r2_score, explained_variance_score\n",
    "from sklearn.linear_model import LinearRegression\n",
    "from sklearn.feature_selection import f_regression \n",
    "from sklearn.metrics import mean_squared_error\n",
    "from sklearn.model_selection import train_test_split\n",
    "\n",
    "import warnings\n",
    "warnings.filterwarnings('ignore')\n"
   ]
  },
  {
   "cell_type": "markdown",
   "id": "41157e1e",
   "metadata": {},
   "source": [
    "# Acquire and prepare the data"
   ]
  },
  {
   "cell_type": "markdown",
   "id": "c52d610a",
   "metadata": {},
   "source": [
    "### This wrangle function does the following \n",
    "- acquires the Zillow data from the codeup database\n",
    "- drops the na values to get rid of nulls \n",
    "- converts the columns bedroomcnt, calculatedfinishedsquarefeet, taxvaluedollarcnt, and yearbuilt to int columns\n",
    "- gets rid of properties that have more than 6 bedrooms or bathrooms\n",
    "- gets rid of properties where the tax value dollar count exceeds 2,000,000\n",
    "- gets rid of properties where the calculated finished square feet is over 100,000\n",
    "- converts the fips column from numbers to the county names, as follows: \n",
    "    - 6037 = LA \n",
    "    - 6059 = Orange \n",
    "    - 6111 = Ventura"
   ]
  },
  {
   "cell_type": "code",
   "execution_count": 2,
   "id": "fd124deb",
   "metadata": {},
   "outputs": [],
   "source": [
    "df = wrangle.wrangle_zillow()"
   ]
  },
  {
   "cell_type": "markdown",
   "id": "3005ad31",
   "metadata": {},
   "source": [
    "# Divide the data into train, validate, and test"
   ]
  },
  {
   "cell_type": "code",
   "execution_count": 3,
   "id": "fb2b2fc2",
   "metadata": {},
   "outputs": [],
   "source": [
    "train, validate, test = wrangle.split_zillow_data(df)"
   ]
  },
  {
   "cell_type": "code",
   "execution_count": 4,
   "id": "3074413f",
   "metadata": {},
   "outputs": [
    {
     "data": {
      "text/plain": [
       "((1172964, 7), (502700, 7), (418917, 7))"
      ]
     },
     "execution_count": 4,
     "metadata": {},
     "output_type": "execute_result"
    }
   ],
   "source": [
    "#1 \n",
    "train.shape, validate.shape, test.shape"
   ]
  },
  {
   "cell_type": "code",
   "execution_count": 5,
   "id": "a854129a",
   "metadata": {},
   "outputs": [],
   "source": [
    "# Stratify with taxvaluedollarcnt\n",
    "X_train = train.drop(columns=[\"taxvaluedollarcnt\"])\n",
    "y_train = train.taxvaluedollarcnt\n",
    "\n",
    "X_validate = validate.drop(columns=[\"taxvaluedollarcnt\"])\n",
    "y_validate = validate.taxvaluedollarcnt\n",
    "\n",
    "X_test = test.drop(columns=[\"taxvaluedollarcnt\"])\n",
    "y_test = test.taxvaluedollarcnt"
   ]
  },
  {
   "cell_type": "code",
   "execution_count": null,
   "id": "05b57d59",
   "metadata": {},
   "outputs": [],
   "source": []
  }
 ],
 "metadata": {
  "kernelspec": {
   "display_name": "Python 3 (ipykernel)",
   "language": "python",
   "name": "python3"
  },
  "language_info": {
   "codemirror_mode": {
    "name": "ipython",
    "version": 3
   },
   "file_extension": ".py",
   "mimetype": "text/x-python",
   "name": "python",
   "nbconvert_exporter": "python",
   "pygments_lexer": "ipython3",
   "version": "3.9.7"
  }
 },
 "nbformat": 4,
 "nbformat_minor": 5
}
